{
 "cells": [
  {
   "attachments": {},
   "cell_type": "markdown",
   "metadata": {},
   "source": [
    "# Chamfer Distance\n",
    "* Metric commonly used two compare two sets of points, particularly in the context \\\n",
    "of point cloud data.\n",
    "* Measures how similar / different two point clouds are\n",
    "* Often used in 3D reconstruction tasks to assess how well a generated point cloud \\\n",
    "matches the original\n",
    "\n",
    "## How does it work?\n",
    "Give two point clouds $P$ and $Q$ the Chamfer Distance computes the distance \\\n",
    "between each point in one set to its closest point in the other set and sums these \\\n",
    "distances:\n",
    "\n",
    "1. **Forward direction**: For each point $P$, find the closest point in $Q$ and \\\n",
    "calculate the distance\n",
    "2. **Backward direction**: For each point in $Q$ find the closets point in $P$ \\\n",
    "and calculate the distance\n",
    "3. **Summation**: The sum of the distances 1. and 2. is the Chamfer distance\n",
    "\n",
    "Formula: \n",
    "$$d_{Chamfer}(P,Q) = \\sum_{p \\in P} \\min_{\\mathbf{q \\in Q}} ||p-q||_2^2 + \\sum_{q \\in Q} \\min_{\\mathbf{p \\in P}} ||p-q||_2^2$$\n",
    "\n",
    "With:\n",
    "* $p \\in P$ are points from the first set (e.g., original point cloud).\n",
    "* $q \\in Q$ are points from the second set (e.g., reconstructed or generated point cloud).\n",
    "* $||\\cdot||_2$​ is the Euclidean distance between two points.\n"
   ]
  },
  {
   "attachments": {},
   "cell_type": "markdown",
   "metadata": {},
   "source": [
    "## Why Is Chamfer Distance Useful for VAE and 3D Data?\n",
    "\n",
    "In the context of 3D point cloud reconstruction and generation (like in a Variational Autoencoder), Chamfer Distance serves as a crucial loss function or evaluation metric to:\n",
    "\n",
    "1. **Measure Reconstruction Accuracy**: After encoding and decoding a point cloud using the VAE, you can use Chamfer Distance to see how closely the reconstructed 3D object resembles the original. If the distance is low, the reconstruction is accurate.\n",
    "\n",
    "2. **Evaluate Generated Samples**: When the VAE generates new point clouds, Chamfer Distance helps assess how realistic these generated samples are compared to the original 3D data. The lower the Chamfer Distance between the generated and real point clouds, the better the generation.\n",
    "\n",
    "3. **Handle Irregular Sampling**: One of the strengths of Chamfer Distance is that it <ins>doesn't require the point clouds to have the same number of points</ins>. This makes it robust for comparing point clouds with varying densities or irregular shapes—common scenarios in real-world 3D data."
   ]
  }
 ],
 "metadata": {
  "kernelspec": {
   "display_name": "torch_env",
   "language": "python",
   "name": "python3"
  },
  "language_info": {
   "name": "python",
   "version": "3.10.9"
  },
  "orig_nbformat": 4,
  "vscode": {
   "interpreter": {
    "hash": "936578136147915288321c29f42827c77ae50fbfbeb24a2f891d88059ab923da"
   }
  }
 },
 "nbformat": 4,
 "nbformat_minor": 2
}
